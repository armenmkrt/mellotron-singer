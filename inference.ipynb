{
 "cells": [
  {
   "cell_type": "code",
   "execution_count": 1,
   "id": "hearing-orlando",
   "metadata": {
    "collapsed": true,
    "jupyter": {
     "outputs_hidden": true
    },
    "tags": []
   },
   "outputs": [
    {
     "ename": "ModuleNotFoundError",
     "evalue": "No module named 'vocoder'",
     "output_type": "error",
     "traceback": [
      "\u001b[0;31m---------------------------------------------------------------------------\u001b[0m",
      "\u001b[0;31mModuleNotFoundError\u001b[0m                       Traceback (most recent call last)",
      "\u001b[0;32m<ipython-input-1-9d4359aaf506>\u001b[0m in \u001b[0;36m<module>\u001b[0;34m\u001b[0m\n\u001b[1;32m      3\u001b[0m \u001b[0;31m# sys.path.append('/home/podcastle/workspace/vc-training-pipeline/')\u001b[0m\u001b[0;34m\u001b[0m\u001b[0;34m\u001b[0m\u001b[0;34m\u001b[0m\u001b[0m\n\u001b[1;32m      4\u001b[0m \u001b[0;34m\u001b[0m\u001b[0m\n\u001b[0;32m----> 5\u001b[0;31m \u001b[0;32mfrom\u001b[0m \u001b[0mvocoder\u001b[0m\u001b[0;34m.\u001b[0m\u001b[0mmodels\u001b[0m \u001b[0;32mimport\u001b[0m \u001b[0mGenerator\u001b[0m\u001b[0;34m\u001b[0m\u001b[0;34m\u001b[0m\u001b[0m\n\u001b[0m\u001b[1;32m      6\u001b[0m \u001b[0;32mfrom\u001b[0m \u001b[0mvocoder\u001b[0m\u001b[0;34m.\u001b[0m\u001b[0mutils\u001b[0m \u001b[0;32mimport\u001b[0m \u001b[0mload_checkpoint\u001b[0m\u001b[0;34m\u001b[0m\u001b[0;34m\u001b[0m\u001b[0m\n",
      "\u001b[0;31mModuleNotFoundError\u001b[0m: No module named 'vocoder'"
     ]
    }
   ],
   "source": [
    "import sys\n",
    "\n",
    "# sys.path.append('/home/podcastle/workspace/vc-training-pipeline/')\n",
    "\n",
    "from vocoder.models import Generator\n",
    "from vocoder.utils import load_checkpoint"
   ]
  },
  {
   "cell_type": "code",
   "execution_count": 1,
   "id": "southwest-aaron",
   "metadata": {},
   "outputs": [],
   "source": [
    "import torch\n",
    "import numpy as np\n",
    "import IPython.display as ipd\n",
    "from omegaconf import OmegaConf\n",
    "import matplotlib.pyplot as plt\n",
    "\n",
    "from data.text import text_to_sequence\n",
    "from train import load_model\n",
    "from dataset import TextMelDurLoader"
   ]
  },
  {
   "cell_type": "code",
   "execution_count": 2,
   "id": "optical-burton",
   "metadata": {},
   "outputs": [],
   "source": [
    "config_path = \"mellotron-singer/configs/train.yaml\"\n",
    "synthesizer_checkpoint_path = \"/home/podcastle/Documents/mellotron-singer/models/base_model/checkpoint_45000\"\n",
    "vocoder_checkpoint_path = \"/home/podcastle/workspace/yeva_preprocessed/vocoder/checkpoints/g_02570000\"\n",
    "\n",
    "hparams_ = OmegaConf.load(config_path)\n",
    "device = torch.device('cpu')"
   ]
  },
  {
   "cell_type": "code",
   "execution_count": 3,
   "id": "usual-tackle",
   "metadata": {},
   "outputs": [
    {
     "name": "stdout",
     "output_type": "stream",
     "text": [
      "769 1024 2\n",
      "Loading checkpoint '/home/podcastle/Documents/mellotron-singer/models/base_model/checkpoint_45000'\n"
     ]
    },
    {
     "data": {
      "text/plain": [
       "<All keys matched successfully>"
      ]
     },
     "execution_count": 3,
     "metadata": {},
     "output_type": "execute_result"
    }
   ],
   "source": [
    "synthesizer = load_model(hparams_)\n",
    "synthesizer.eval()\n",
    "synthesizer.to(device)\n",
    "print(\"Loading checkpoint '{}'\".format(synthesizer_checkpoint_path))\n",
    "synthesizer_checkpoint_dict = torch.load(synthesizer_checkpoint_path)\n",
    "synthesizer.load_state_dict(synthesizer_checkpoint_dict['state_dict'])"
   ]
  },
  {
   "cell_type": "code",
   "execution_count": 4,
   "id": "authentic-kansas",
   "metadata": {},
   "outputs": [
    {
     "ename": "NameError",
     "evalue": "name 'Generator' is not defined",
     "output_type": "error",
     "traceback": [
      "\u001b[0;31m---------------------------------------------------------------------------\u001b[0m",
      "\u001b[0;31mNameError\u001b[0m                                 Traceback (most recent call last)",
      "\u001b[0;32m<ipython-input-4-a0c3c018549c>\u001b[0m in \u001b[0;36m<module>\u001b[0;34m\u001b[0m\n\u001b[1;32m      1\u001b[0m \u001b[0mhparams\u001b[0m \u001b[0;34m=\u001b[0m \u001b[0mOmegaConf\u001b[0m\u001b[0;34m.\u001b[0m\u001b[0mload\u001b[0m\u001b[0;34m(\u001b[0m\u001b[0;34m'/home/podcastle/workspace/vc-training-pipeline/configs/config.yaml'\u001b[0m\u001b[0;34m)\u001b[0m\u001b[0;34m\u001b[0m\u001b[0;34m\u001b[0m\u001b[0m\n\u001b[0;32m----> 2\u001b[0;31m \u001b[0mvocoder\u001b[0m \u001b[0;34m=\u001b[0m \u001b[0mGenerator\u001b[0m\u001b[0;34m(\u001b[0m\u001b[0mhparams\u001b[0m\u001b[0;34m)\u001b[0m\u001b[0;34m.\u001b[0m\u001b[0mto\u001b[0m\u001b[0;34m(\u001b[0m\u001b[0mdevice\u001b[0m\u001b[0;34m)\u001b[0m\u001b[0;34m\u001b[0m\u001b[0;34m\u001b[0m\u001b[0m\n\u001b[0m\u001b[1;32m      3\u001b[0m \u001b[0;34m\u001b[0m\u001b[0m\n\u001b[1;32m      4\u001b[0m \u001b[0mvocoder_checkpoint_dict\u001b[0m \u001b[0;34m=\u001b[0m \u001b[0mload_checkpoint\u001b[0m\u001b[0;34m(\u001b[0m\u001b[0mvocoder_checkpoint_path\u001b[0m\u001b[0;34m,\u001b[0m \u001b[0mdevice\u001b[0m\u001b[0;34m)\u001b[0m\u001b[0;34m\u001b[0m\u001b[0;34m\u001b[0m\u001b[0m\n\u001b[1;32m      5\u001b[0m \u001b[0mvocoder\u001b[0m\u001b[0;34m.\u001b[0m\u001b[0mload_state_dict\u001b[0m\u001b[0;34m(\u001b[0m\u001b[0mvocoder_checkpoint_dict\u001b[0m\u001b[0;34m[\u001b[0m\u001b[0;34m'generator'\u001b[0m\u001b[0;34m]\u001b[0m\u001b[0;34m)\u001b[0m\u001b[0;34m\u001b[0m\u001b[0;34m\u001b[0m\u001b[0m\n",
      "\u001b[0;31mNameError\u001b[0m: name 'Generator' is not defined"
     ]
    }
   ],
   "source": [
    "hparams = OmegaConf.load('/home/podcastle/workspace/vc-training-pipeline/configs/config.yaml')\n",
    "vocoder = Generator(hparams).to(device)\n",
    "\n",
    "vocoder_checkpoint_dict = load_checkpoint(vocoder_checkpoint_path, device)\n",
    "vocoder.load_state_dict(vocoder_checkpoint_dict['generator'])\n",
    "vocoder.eval()\n",
    "vocoder.remove_weight_norm()"
   ]
  },
  {
   "cell_type": "code",
   "execution_count": 5,
   "id": "broken-brooklyn",
   "metadata": {},
   "outputs": [],
   "source": [
    "text = \"Podcastle builds next generation audio content editing, and discovery tool for storytellers around the globe.\"\n",
    "text = \"In some amphibious aircrafts, the single engine is mounted on a pylon attached to the fuselage, which in turn is used as a floating hull.\"\n",
    "# text = \"Machine Learning has advanced many industries, leading to task automation, better ability to predict outcomes, and deep learning applications to interpret and generate text.\"\n",
    "\n",
    "embed = np.load(\"/home/podcastle/workspace/yeva_preprocessed/YV.npy\")[None, :]\n",
    "sequence = text_to_sequence(text, ['english_cleaners'])\n",
    "sequence = np.array(sequence)[None, :]\n",
    "\n",
    "sequence = torch.from_numpy(sequence)\n",
    "embed = torch.from_numpy(embed)"
   ]
  },
  {
   "cell_type": "code",
   "execution_count": 6,
   "id": "persistent-anthony",
   "metadata": {},
   "outputs": [
    {
     "ename": "FileNotFoundError",
     "evalue": "[Errno 2] No such file or directory: 'data/cmu_dictionary'",
     "output_type": "error",
     "traceback": [
      "\u001b[0;31m---------------------------------------------------------------------------\u001b[0m",
      "\u001b[0;31mFileNotFoundError\u001b[0m                         Traceback (most recent call last)",
      "\u001b[0;32m<ipython-input-6-8fdce8c6151d>\u001b[0m in \u001b[0;36m<module>\u001b[0;34m\u001b[0m\n\u001b[0;32m----> 1\u001b[0;31m \u001b[0;32mfrom\u001b[0m \u001b[0mmellotron_utils\u001b[0m \u001b[0;32mimport\u001b[0m \u001b[0mget_data_from_musicxml\u001b[0m\u001b[0;34m\u001b[0m\u001b[0;34m\u001b[0m\u001b[0m\n\u001b[0m\u001b[1;32m      2\u001b[0m \u001b[0;34m\u001b[0m\u001b[0m\n\u001b[1;32m      3\u001b[0m \u001b[0;34m\u001b[0m\u001b[0m\n\u001b[1;32m      4\u001b[0m \u001b[0mdata\u001b[0m \u001b[0;34m=\u001b[0m \u001b[0mget_data_from_musicxml\u001b[0m\u001b[0;34m(\u001b[0m\u001b[0;34m'data/haendel_hallelujah.musicxml'\u001b[0m\u001b[0;34m,\u001b[0m \u001b[0;36m132\u001b[0m\u001b[0;34m,\u001b[0m \u001b[0mconvert_stress\u001b[0m\u001b[0;34m=\u001b[0m\u001b[0;32mTrue\u001b[0m\u001b[0;34m)\u001b[0m\u001b[0;34m\u001b[0m\u001b[0;34m\u001b[0m\u001b[0m\n\u001b[1;32m      5\u001b[0m \u001b[0mpanning\u001b[0m \u001b[0;34m=\u001b[0m \u001b[0;34m{\u001b[0m\u001b[0;34m'Soprano'\u001b[0m\u001b[0;34m:\u001b[0m \u001b[0;34m[\u001b[0m\u001b[0;34m-\u001b[0m\u001b[0;36m60\u001b[0m\u001b[0;34m,\u001b[0m \u001b[0;34m-\u001b[0m\u001b[0;36m30\u001b[0m\u001b[0;34m]\u001b[0m\u001b[0;34m,\u001b[0m \u001b[0;34m'Alto'\u001b[0m\u001b[0;34m:\u001b[0m \u001b[0;34m[\u001b[0m\u001b[0;34m-\u001b[0m\u001b[0;36m40\u001b[0m\u001b[0;34m,\u001b[0m \u001b[0;34m-\u001b[0m\u001b[0;36m10\u001b[0m\u001b[0;34m]\u001b[0m\u001b[0;34m,\u001b[0m \u001b[0;34m'Tenor'\u001b[0m\u001b[0;34m:\u001b[0m \u001b[0;34m[\u001b[0m\u001b[0;36m30\u001b[0m\u001b[0;34m,\u001b[0m \u001b[0;36m60\u001b[0m\u001b[0;34m]\u001b[0m\u001b[0;34m,\u001b[0m \u001b[0;34m'Bass'\u001b[0m\u001b[0;34m:\u001b[0m \u001b[0;34m[\u001b[0m\u001b[0;36m10\u001b[0m\u001b[0;34m,\u001b[0m \u001b[0;36m40\u001b[0m\u001b[0;34m]\u001b[0m\u001b[0;34m}\u001b[0m\u001b[0;34m\u001b[0m\u001b[0;34m\u001b[0m\u001b[0m\n",
      "\u001b[0;32m~/Documents/mellotron-singer/mellotron_utils.py\u001b[0m in \u001b[0;36m<module>\u001b[0;34m\u001b[0m\n\u001b[1;32m      8\u001b[0m \u001b[0;34m\u001b[0m\u001b[0m\n\u001b[1;32m      9\u001b[0m \u001b[0mCMUDICT_PATH\u001b[0m \u001b[0;34m=\u001b[0m \u001b[0;34m\"data/cmu_dictionary\"\u001b[0m\u001b[0;34m\u001b[0m\u001b[0;34m\u001b[0m\u001b[0m\n\u001b[0;32m---> 10\u001b[0;31m \u001b[0mCMUDICT\u001b[0m \u001b[0;34m=\u001b[0m \u001b[0mcmudict\u001b[0m\u001b[0;34m.\u001b[0m\u001b[0mCMUDict\u001b[0m\u001b[0;34m(\u001b[0m\u001b[0mCMUDICT_PATH\u001b[0m\u001b[0;34m)\u001b[0m\u001b[0;34m\u001b[0m\u001b[0;34m\u001b[0m\u001b[0m\n\u001b[0m\u001b[1;32m     11\u001b[0m PHONEME2GRAPHEME = {\n\u001b[1;32m     12\u001b[0m     \u001b[0;34m'AA'\u001b[0m\u001b[0;34m:\u001b[0m \u001b[0;34m[\u001b[0m\u001b[0;34m'a'\u001b[0m\u001b[0;34m,\u001b[0m \u001b[0;34m'o'\u001b[0m\u001b[0;34m,\u001b[0m \u001b[0;34m'ah'\u001b[0m\u001b[0;34m]\u001b[0m\u001b[0;34m,\u001b[0m\u001b[0;34m\u001b[0m\u001b[0;34m\u001b[0m\u001b[0m\n",
      "\u001b[0;32m~/Documents/mellotron-singer/data/text/cmudict.py\u001b[0m in \u001b[0;36m__init__\u001b[0;34m(self, file_or_path, keep_ambiguous)\u001b[0m\n\u001b[1;32m     23\u001b[0m     \u001b[0;32mdef\u001b[0m \u001b[0m__init__\u001b[0m\u001b[0;34m(\u001b[0m\u001b[0mself\u001b[0m\u001b[0;34m,\u001b[0m \u001b[0mfile_or_path\u001b[0m\u001b[0;34m,\u001b[0m \u001b[0mkeep_ambiguous\u001b[0m\u001b[0;34m=\u001b[0m\u001b[0;32mTrue\u001b[0m\u001b[0;34m)\u001b[0m\u001b[0;34m:\u001b[0m\u001b[0;34m\u001b[0m\u001b[0;34m\u001b[0m\u001b[0m\n\u001b[1;32m     24\u001b[0m         \u001b[0;32mif\u001b[0m \u001b[0misinstance\u001b[0m\u001b[0;34m(\u001b[0m\u001b[0mfile_or_path\u001b[0m\u001b[0;34m,\u001b[0m \u001b[0mstr\u001b[0m\u001b[0;34m)\u001b[0m\u001b[0;34m:\u001b[0m\u001b[0;34m\u001b[0m\u001b[0;34m\u001b[0m\u001b[0m\n\u001b[0;32m---> 25\u001b[0;31m             \u001b[0;32mwith\u001b[0m \u001b[0mopen\u001b[0m\u001b[0;34m(\u001b[0m\u001b[0mfile_or_path\u001b[0m\u001b[0;34m,\u001b[0m \u001b[0mencoding\u001b[0m\u001b[0;34m=\u001b[0m\u001b[0;34m'latin-1'\u001b[0m\u001b[0;34m)\u001b[0m \u001b[0;32mas\u001b[0m \u001b[0mf\u001b[0m\u001b[0;34m:\u001b[0m\u001b[0;34m\u001b[0m\u001b[0;34m\u001b[0m\u001b[0m\n\u001b[0m\u001b[1;32m     26\u001b[0m                 \u001b[0mentries\u001b[0m \u001b[0;34m=\u001b[0m \u001b[0m_parse_cmudict\u001b[0m\u001b[0;34m(\u001b[0m\u001b[0mf\u001b[0m\u001b[0;34m)\u001b[0m\u001b[0;34m\u001b[0m\u001b[0;34m\u001b[0m\u001b[0m\n\u001b[1;32m     27\u001b[0m         \u001b[0;32melse\u001b[0m\u001b[0;34m:\u001b[0m\u001b[0;34m\u001b[0m\u001b[0;34m\u001b[0m\u001b[0m\n",
      "\u001b[0;31mFileNotFoundError\u001b[0m: [Errno 2] No such file or directory: 'data/cmu_dictionary'"
     ]
    }
   ],
   "source": [
    "from mellotron_utils import get_data_from_musicxml\n",
    "\n",
    "\n",
    "data = get_data_from_musicxml('data/haendel_hallelujah.musicxml', 132, convert_stress=True)\n",
    "panning = {'Soprano': [-60, -30], 'Alto': [-40, -10], 'Tenor': [30, 60], 'Bass': [10, 40]}"
   ]
  },
  {
   "cell_type": "code",
   "execution_count": null,
   "id": "stainless-hunter",
   "metadata": {},
   "outputs": [],
   "source": [
    "_speakers_per_part = 4\n",
    "frequency_scaling = 0.4\n",
    "n_seconds = 90\n",
    "audio_stereo = np.zeros((hparams.sampling_rate*n_seconds, 2), dtype=np.float32)\n",
    "for i, (part, v) in enumerate(data.items()):\n",
    "    rhythm = data[part]['rhythm'].cuda()\n",
    "    pitch_contour = data[part]['pitch_contour'].cuda()\n",
    "    text_encoded = data[part]['text_encoded'].cuda()\n",
    "    \n",
    "    for k in range(n_speakers_per_part):\n",
    "        pan = np.random.randint(panning[part][0], panning[part][1])\n",
    "        if any(x in part.lower() for x in ('soprano', 'alto', 'female')):\n",
    "            speaker_id = torch.LongTensor([next(female_speakers)]).cuda()\n",
    "        else:\n",
    "            speaker_id = torch.LongTensor([next(male_speakers)]).cuda()\n",
    "        print(\"{} MellotronID {} pan {}\".format(part, speaker_id.item(), pan))\n",
    "\n",
    "        with torch.no_grad():\n",
    "            mel_outputs, mel_outputs_postnet, gate_outputs, alignments_transfer = mellotron.inference_noattention(\n",
    "                (text_encoded, mel, speaker_id, pitch_contour*frequency_scaling, rhythm))\n",
    "\n",
    "#             audio = denoiser(waveglow.infer(mel_outputs_postnet, sigma=0.8), 0.01)[0, 0]\n",
    "#             audio = audio.cpu().numpy()\n",
    "#             audio = panner(audio, pan)\n",
    "#             audio_stereo[:audio.shape[0]] += audio \n",
    "            with torch.no_grad():\n",
    "                y_g_hat = generator(mel_outputs_postnet.cpu())\n",
    "                audio = y_g_hat.squeeze()\n",
    "                audio = audio  * MAX_WAV_VALUE\n",
    "                audio = audio.cpu().numpy().astype('int16')\n",
    "                audio = panner(audio, pan)\n",
    "                audio_stereo[:audio.shape[0]] += audio \n",
    "\n",
    "            write(\"{} {}.wav\".format(part, speaker_id.item()), hparams.sampling_rate, audio)"
   ]
  }
 ],
 "metadata": {
  "kernelspec": {
   "display_name": "Python 3",
   "language": "python",
   "name": "python3"
  },
  "language_info": {
   "codemirror_mode": {
    "name": "ipython",
    "version": 3
   },
   "file_extension": ".py",
   "mimetype": "text/x-python",
   "name": "python",
   "nbconvert_exporter": "python",
   "pygments_lexer": "ipython3",
   "version": "3.8.10"
  }
 },
 "nbformat": 4,
 "nbformat_minor": 5
}
